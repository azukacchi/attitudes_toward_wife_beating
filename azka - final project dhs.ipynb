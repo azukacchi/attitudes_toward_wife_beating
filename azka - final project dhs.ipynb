{
 "cells": [
  {
   "attachments": {},
   "cell_type": "markdown",
   "metadata": {},
   "source": [
    "# Final Project - Azka Nur Afifah"
   ]
  },
  {
   "cell_type": "code",
   "execution_count": 1,
   "metadata": {},
   "outputs": [],
   "source": [
    "import pandas as pd\n",
    "import numpy as np\n",
    "import matplotlib.pyplot as plt\n",
    "# import matplotlib.dates as mdates\n",
    "import seaborn as sns\n",
    "import re\n",
    "import pyodbc\n",
    "import gspread\n",
    "import matplotlib.dates as mdates\n",
    "from datetime import datetime\n",
    "sns.set()\n",
    "from collections import Counter\n",
    "from IPython.display import display\n",
    "import json\n",
    "from io import StringIO\n",
    "\n",
    "import sys\n",
    "sys.path.append(r'C:\\Users\\azuka\\Documents\\Python Scripts\\common_functions')\n",
    "from common_functions import check_values, make_connection, update_sheet, get_sheet, replace_columns"
   ]
  },
  {
   "attachments": {},
   "cell_type": "markdown",
   "metadata": {},
   "source": [
    "# load dataset"
   ]
  },
  {
   "cell_type": "code",
   "execution_count": 2,
   "metadata": {},
   "outputs": [
    {
     "data": {
      "text/plain": [
       "(47963, 1283)"
      ]
     },
     "execution_count": 2,
     "metadata": {},
     "output_type": "execute_result"
    }
   ],
   "source": [
    "df_household = pd.read_stata(r'C:\\Users\\azuka\\Documents\\Materials\\Non Degree\\06 Stats for Business\\Final Project\\DHS Standard\\IDHR71DT\\IDHR71FL.DTA')\n",
    "df_household.shape"
   ]
  },
  {
   "cell_type": "code",
   "execution_count": 3,
   "metadata": {},
   "outputs": [
    {
     "data": {
      "text/plain": [
       "(49627, 5491)"
      ]
     },
     "execution_count": 3,
     "metadata": {},
     "output_type": "execute_result"
    }
   ],
   "source": [
    "df_women = pd.read_stata(r'C:\\Users\\azuka\\Documents\\Materials\\Non Degree\\06 Stats for Business\\Final Project\\DHS Standard\\IDIR71DT\\IDIR71FL.DTA', convert_categoricals=False)\n",
    "sr = pd.io.stata.StataReader(r'C:\\Users\\azuka\\Documents\\Materials\\Non Degree\\06 Stats for Business\\Final Project\\DHS Standard\\IDIR71DT\\IDIR71FL.DTA')\n",
    "vl = sr.value_labels()\n",
    "sr.close()\n",
    "df_women.shape"
   ]
  },
  {
   "cell_type": "code",
   "execution_count": 4,
   "metadata": {},
   "outputs": [],
   "source": [
    "df_women_recode = df_women.copy()"
   ]
  },
  {
   "cell_type": "code",
   "execution_count": 5,
   "metadata": {},
   "outputs": [],
   "source": [
    "# value_list = [i for i in vl.keys()]\n",
    "# for i in value_list:\n",
    "#     if i.lower() in df_women_recode.columns:\n",
    "#         df_women_recode[i.lower()] = df_women_recode[i.lower()].map(vl[i])"
   ]
  },
  {
   "cell_type": "code",
   "execution_count": 181,
   "metadata": {},
   "outputs": [],
   "source": [
    "import pickle \n",
    "\n",
    "with open('saved_value_list.pkl', 'wb') as f:\n",
    "    pickle.dump(vl, f)\n",
    "        \n",
    "# with open('saved_dictionary.pkl', 'rb') as f:\n",
    "#     loaded_dict = pickle.load(f)"
   ]
  },
  {
   "cell_type": "code",
   "execution_count": 5,
   "metadata": {},
   "outputs": [
    {
     "data": {
      "text/html": [
       "<div>\n",
       "<style scoped>\n",
       "    .dataframe tbody tr th:only-of-type {\n",
       "        vertical-align: middle;\n",
       "    }\n",
       "\n",
       "    .dataframe tbody tr th {\n",
       "        vertical-align: top;\n",
       "    }\n",
       "\n",
       "    .dataframe thead th {\n",
       "        text-align: right;\n",
       "    }\n",
       "</style>\n",
       "<table border=\"1\" class=\"dataframe\">\n",
       "  <thead>\n",
       "    <tr style=\"text-align: right;\">\n",
       "      <th></th>\n",
       "      <th>caseid</th>\n",
       "      <th>v000</th>\n",
       "      <th>v001</th>\n",
       "      <th>v002</th>\n",
       "      <th>v003</th>\n",
       "      <th>v004</th>\n",
       "      <th>v005</th>\n",
       "      <th>v006</th>\n",
       "      <th>v007</th>\n",
       "      <th>v008</th>\n",
       "      <th>...</th>\n",
       "      <th>s524_3</th>\n",
       "      <th>s524_4</th>\n",
       "      <th>s524_5</th>\n",
       "      <th>s524_6</th>\n",
       "      <th>s630o_1</th>\n",
       "      <th>s630o_2</th>\n",
       "      <th>s630o_3</th>\n",
       "      <th>s630o_4</th>\n",
       "      <th>s630o_5</th>\n",
       "      <th>s630o_6</th>\n",
       "    </tr>\n",
       "  </thead>\n",
       "  <tbody>\n",
       "    <tr>\n",
       "      <th>0</th>\n",
       "      <td>1 2  2</td>\n",
       "      <td>ID7</td>\n",
       "      <td>1</td>\n",
       "      <td>2</td>\n",
       "      <td>2</td>\n",
       "      <td>1</td>\n",
       "      <td>454859</td>\n",
       "      <td>8</td>\n",
       "      <td>2017</td>\n",
       "      <td>1412</td>\n",
       "      <td>...</td>\n",
       "      <td>NaN</td>\n",
       "      <td>NaN</td>\n",
       "      <td>NaN</td>\n",
       "      <td>NaN</td>\n",
       "      <td>NaN</td>\n",
       "      <td>NaN</td>\n",
       "      <td>NaN</td>\n",
       "      <td>NaN</td>\n",
       "      <td>NaN</td>\n",
       "      <td>NaN</td>\n",
       "    </tr>\n",
       "    <tr>\n",
       "      <th>1</th>\n",
       "      <td>1 2  3</td>\n",
       "      <td>ID7</td>\n",
       "      <td>1</td>\n",
       "      <td>2</td>\n",
       "      <td>3</td>\n",
       "      <td>1</td>\n",
       "      <td>454859</td>\n",
       "      <td>8</td>\n",
       "      <td>2017</td>\n",
       "      <td>1412</td>\n",
       "      <td>...</td>\n",
       "      <td>NaN</td>\n",
       "      <td>NaN</td>\n",
       "      <td>NaN</td>\n",
       "      <td>NaN</td>\n",
       "      <td>NaN</td>\n",
       "      <td>NaN</td>\n",
       "      <td>NaN</td>\n",
       "      <td>NaN</td>\n",
       "      <td>NaN</td>\n",
       "      <td>NaN</td>\n",
       "    </tr>\n",
       "    <tr>\n",
       "      <th>2</th>\n",
       "      <td>1 3  2</td>\n",
       "      <td>ID7</td>\n",
       "      <td>1</td>\n",
       "      <td>3</td>\n",
       "      <td>2</td>\n",
       "      <td>1</td>\n",
       "      <td>454859</td>\n",
       "      <td>8</td>\n",
       "      <td>2017</td>\n",
       "      <td>1412</td>\n",
       "      <td>...</td>\n",
       "      <td>NaN</td>\n",
       "      <td>NaN</td>\n",
       "      <td>NaN</td>\n",
       "      <td>NaN</td>\n",
       "      <td>0.0</td>\n",
       "      <td>NaN</td>\n",
       "      <td>NaN</td>\n",
       "      <td>NaN</td>\n",
       "      <td>NaN</td>\n",
       "      <td>NaN</td>\n",
       "    </tr>\n",
       "    <tr>\n",
       "      <th>3</th>\n",
       "      <td>1 4  2</td>\n",
       "      <td>ID7</td>\n",
       "      <td>1</td>\n",
       "      <td>4</td>\n",
       "      <td>2</td>\n",
       "      <td>1</td>\n",
       "      <td>454859</td>\n",
       "      <td>8</td>\n",
       "      <td>2017</td>\n",
       "      <td>1412</td>\n",
       "      <td>...</td>\n",
       "      <td>NaN</td>\n",
       "      <td>NaN</td>\n",
       "      <td>NaN</td>\n",
       "      <td>NaN</td>\n",
       "      <td>NaN</td>\n",
       "      <td>NaN</td>\n",
       "      <td>NaN</td>\n",
       "      <td>NaN</td>\n",
       "      <td>NaN</td>\n",
       "      <td>NaN</td>\n",
       "    </tr>\n",
       "    <tr>\n",
       "      <th>4</th>\n",
       "      <td>1 6  4</td>\n",
       "      <td>ID7</td>\n",
       "      <td>1</td>\n",
       "      <td>6</td>\n",
       "      <td>4</td>\n",
       "      <td>1</td>\n",
       "      <td>454859</td>\n",
       "      <td>8</td>\n",
       "      <td>2017</td>\n",
       "      <td>1412</td>\n",
       "      <td>...</td>\n",
       "      <td>NaN</td>\n",
       "      <td>NaN</td>\n",
       "      <td>NaN</td>\n",
       "      <td>NaN</td>\n",
       "      <td>NaN</td>\n",
       "      <td>NaN</td>\n",
       "      <td>NaN</td>\n",
       "      <td>NaN</td>\n",
       "      <td>NaN</td>\n",
       "      <td>NaN</td>\n",
       "    </tr>\n",
       "    <tr>\n",
       "      <th>...</th>\n",
       "      <td>...</td>\n",
       "      <td>...</td>\n",
       "      <td>...</td>\n",
       "      <td>...</td>\n",
       "      <td>...</td>\n",
       "      <td>...</td>\n",
       "      <td>...</td>\n",
       "      <td>...</td>\n",
       "      <td>...</td>\n",
       "      <td>...</td>\n",
       "      <td>...</td>\n",
       "      <td>...</td>\n",
       "      <td>...</td>\n",
       "      <td>...</td>\n",
       "      <td>...</td>\n",
       "      <td>...</td>\n",
       "      <td>...</td>\n",
       "      <td>...</td>\n",
       "      <td>...</td>\n",
       "      <td>...</td>\n",
       "      <td>...</td>\n",
       "    </tr>\n",
       "    <tr>\n",
       "      <th>49622</th>\n",
       "      <td>197021  1</td>\n",
       "      <td>ID7</td>\n",
       "      <td>1970</td>\n",
       "      <td>21</td>\n",
       "      <td>1</td>\n",
       "      <td>1970</td>\n",
       "      <td>937556</td>\n",
       "      <td>8</td>\n",
       "      <td>2017</td>\n",
       "      <td>1412</td>\n",
       "      <td>...</td>\n",
       "      <td>NaN</td>\n",
       "      <td>NaN</td>\n",
       "      <td>NaN</td>\n",
       "      <td>NaN</td>\n",
       "      <td>NaN</td>\n",
       "      <td>NaN</td>\n",
       "      <td>NaN</td>\n",
       "      <td>NaN</td>\n",
       "      <td>NaN</td>\n",
       "      <td>NaN</td>\n",
       "    </tr>\n",
       "    <tr>\n",
       "      <th>49623</th>\n",
       "      <td>197023  2</td>\n",
       "      <td>ID7</td>\n",
       "      <td>1970</td>\n",
       "      <td>23</td>\n",
       "      <td>2</td>\n",
       "      <td>1970</td>\n",
       "      <td>937556</td>\n",
       "      <td>8</td>\n",
       "      <td>2017</td>\n",
       "      <td>1412</td>\n",
       "      <td>...</td>\n",
       "      <td>NaN</td>\n",
       "      <td>NaN</td>\n",
       "      <td>NaN</td>\n",
       "      <td>NaN</td>\n",
       "      <td>NaN</td>\n",
       "      <td>NaN</td>\n",
       "      <td>NaN</td>\n",
       "      <td>NaN</td>\n",
       "      <td>NaN</td>\n",
       "      <td>NaN</td>\n",
       "    </tr>\n",
       "    <tr>\n",
       "      <th>49624</th>\n",
       "      <td>197024  4</td>\n",
       "      <td>ID7</td>\n",
       "      <td>1970</td>\n",
       "      <td>24</td>\n",
       "      <td>4</td>\n",
       "      <td>1970</td>\n",
       "      <td>937556</td>\n",
       "      <td>8</td>\n",
       "      <td>2017</td>\n",
       "      <td>1412</td>\n",
       "      <td>...</td>\n",
       "      <td>NaN</td>\n",
       "      <td>NaN</td>\n",
       "      <td>NaN</td>\n",
       "      <td>NaN</td>\n",
       "      <td>0.0</td>\n",
       "      <td>NaN</td>\n",
       "      <td>NaN</td>\n",
       "      <td>NaN</td>\n",
       "      <td>NaN</td>\n",
       "      <td>NaN</td>\n",
       "    </tr>\n",
       "    <tr>\n",
       "      <th>49625</th>\n",
       "      <td>197024  7</td>\n",
       "      <td>ID7</td>\n",
       "      <td>1970</td>\n",
       "      <td>24</td>\n",
       "      <td>7</td>\n",
       "      <td>1970</td>\n",
       "      <td>937556</td>\n",
       "      <td>8</td>\n",
       "      <td>2017</td>\n",
       "      <td>1412</td>\n",
       "      <td>...</td>\n",
       "      <td>NaN</td>\n",
       "      <td>NaN</td>\n",
       "      <td>NaN</td>\n",
       "      <td>NaN</td>\n",
       "      <td>NaN</td>\n",
       "      <td>NaN</td>\n",
       "      <td>NaN</td>\n",
       "      <td>NaN</td>\n",
       "      <td>NaN</td>\n",
       "      <td>NaN</td>\n",
       "    </tr>\n",
       "    <tr>\n",
       "      <th>49626</th>\n",
       "      <td>197025  2</td>\n",
       "      <td>ID7</td>\n",
       "      <td>1970</td>\n",
       "      <td>25</td>\n",
       "      <td>2</td>\n",
       "      <td>1970</td>\n",
       "      <td>937556</td>\n",
       "      <td>8</td>\n",
       "      <td>2017</td>\n",
       "      <td>1412</td>\n",
       "      <td>...</td>\n",
       "      <td>NaN</td>\n",
       "      <td>NaN</td>\n",
       "      <td>NaN</td>\n",
       "      <td>NaN</td>\n",
       "      <td>0.0</td>\n",
       "      <td>NaN</td>\n",
       "      <td>NaN</td>\n",
       "      <td>NaN</td>\n",
       "      <td>NaN</td>\n",
       "      <td>NaN</td>\n",
       "    </tr>\n",
       "  </tbody>\n",
       "</table>\n",
       "<p>49627 rows × 5491 columns</p>\n",
       "</div>"
      ],
      "text/plain": [
       "                caseid v000  v001  v002  v003  v004    v005  v006  v007  v008  \\\n",
       "0               1 2  2  ID7     1     2     2     1  454859     8  2017  1412   \n",
       "1               1 2  3  ID7     1     2     3     1  454859     8  2017  1412   \n",
       "2               1 3  2  ID7     1     3     2     1  454859     8  2017  1412   \n",
       "3               1 4  2  ID7     1     4     2     1  454859     8  2017  1412   \n",
       "4               1 6  4  ID7     1     6     4     1  454859     8  2017  1412   \n",
       "...                ...  ...   ...   ...   ...   ...     ...   ...   ...   ...   \n",
       "49622        197021  1  ID7  1970    21     1  1970  937556     8  2017  1412   \n",
       "49623        197023  2  ID7  1970    23     2  1970  937556     8  2017  1412   \n",
       "49624        197024  4  ID7  1970    24     4  1970  937556     8  2017  1412   \n",
       "49625        197024  7  ID7  1970    24     7  1970  937556     8  2017  1412   \n",
       "49626        197025  2  ID7  1970    25     2  1970  937556     8  2017  1412   \n",
       "\n",
       "       ...  s524_3  s524_4  s524_5  s524_6  s630o_1  s630o_2  s630o_3  \\\n",
       "0      ...     NaN     NaN     NaN     NaN      NaN      NaN      NaN   \n",
       "1      ...     NaN     NaN     NaN     NaN      NaN      NaN      NaN   \n",
       "2      ...     NaN     NaN     NaN     NaN      0.0      NaN      NaN   \n",
       "3      ...     NaN     NaN     NaN     NaN      NaN      NaN      NaN   \n",
       "4      ...     NaN     NaN     NaN     NaN      NaN      NaN      NaN   \n",
       "...    ...     ...     ...     ...     ...      ...      ...      ...   \n",
       "49622  ...     NaN     NaN     NaN     NaN      NaN      NaN      NaN   \n",
       "49623  ...     NaN     NaN     NaN     NaN      NaN      NaN      NaN   \n",
       "49624  ...     NaN     NaN     NaN     NaN      0.0      NaN      NaN   \n",
       "49625  ...     NaN     NaN     NaN     NaN      NaN      NaN      NaN   \n",
       "49626  ...     NaN     NaN     NaN     NaN      0.0      NaN      NaN   \n",
       "\n",
       "       s630o_4  s630o_5  s630o_6  \n",
       "0          NaN      NaN      NaN  \n",
       "1          NaN      NaN      NaN  \n",
       "2          NaN      NaN      NaN  \n",
       "3          NaN      NaN      NaN  \n",
       "4          NaN      NaN      NaN  \n",
       "...        ...      ...      ...  \n",
       "49622      NaN      NaN      NaN  \n",
       "49623      NaN      NaN      NaN  \n",
       "49624      NaN      NaN      NaN  \n",
       "49625      NaN      NaN      NaN  \n",
       "49626      NaN      NaN      NaN  \n",
       "\n",
       "[49627 rows x 5491 columns]"
      ]
     },
     "execution_count": 5,
     "metadata": {},
     "output_type": "execute_result"
    }
   ],
   "source": [
    "df_women_recode"
   ]
  },
  {
   "cell_type": "code",
   "execution_count": 6,
   "metadata": {},
   "outputs": [
    {
     "data": {
      "text/plain": [
       "36944"
      ]
     },
     "execution_count": 6,
     "metadata": {},
     "output_type": "execute_result"
    }
   ],
   "source": [
    "df_women_recode['hhid'] = df_women_recode.v001.astype('str') + '_' + df_women_recode.v002.astype('str')\n",
    "df_women_recode.hhid.nunique()"
   ]
  },
  {
   "cell_type": "code",
   "execution_count": 7,
   "metadata": {},
   "outputs": [
    {
     "data": {
      "text/plain": [
       "36944"
      ]
     },
     "execution_count": 7,
     "metadata": {},
     "output_type": "execute_result"
    }
   ],
   "source": [
    "df_women['hhid'] = df_women.v001.astype('str') + '_' + df_women.v002.astype('str')\n",
    "df_women.hhid.nunique()"
   ]
  },
  {
   "cell_type": "code",
   "execution_count": 8,
   "metadata": {},
   "outputs": [
    {
     "data": {
      "text/plain": [
       "47963"
      ]
     },
     "execution_count": 8,
     "metadata": {},
     "output_type": "execute_result"
    }
   ],
   "source": [
    "df_household['hhid_key'] = df_household.hv001.astype('str') + '_' + df_household.hv002.astype('str')\n",
    "df_household.hhid_key.nunique()"
   ]
  },
  {
   "cell_type": "code",
   "execution_count": 9,
   "metadata": {},
   "outputs": [
    {
     "data": {
      "text/plain": [
       "set()"
      ]
     },
     "execution_count": 9,
     "metadata": {},
     "output_type": "execute_result"
    }
   ],
   "source": [
    "set(df_women_recode.hhid) - set(df_household.hhid_key)"
   ]
  },
  {
   "cell_type": "code",
   "execution_count": 11,
   "metadata": {},
   "outputs": [
    {
     "data": {
      "text/html": [
       "<div>\n",
       "<style scoped>\n",
       "    .dataframe tbody tr th:only-of-type {\n",
       "        vertical-align: middle;\n",
       "    }\n",
       "\n",
       "    .dataframe tbody tr th {\n",
       "        vertical-align: top;\n",
       "    }\n",
       "\n",
       "    .dataframe thead th {\n",
       "        text-align: right;\n",
       "    }\n",
       "</style>\n",
       "<table border=\"1\" class=\"dataframe\">\n",
       "  <thead>\n",
       "    <tr style=\"text-align: right;\">\n",
       "      <th></th>\n",
       "      <th>caseid</th>\n",
       "      <th>hhid</th>\n",
       "      <th>v507</th>\n",
       "      <th>v508</th>\n",
       "      <th>v509</th>\n",
       "      <th>v510</th>\n",
       "      <th>v511</th>\n",
       "      <th>v512</th>\n",
       "      <th>v513</th>\n",
       "    </tr>\n",
       "  </thead>\n",
       "  <tbody>\n",
       "    <tr>\n",
       "      <th>0</th>\n",
       "      <td>1 2  2</td>\n",
       "      <td>1_2</td>\n",
       "      <td>5.0</td>\n",
       "      <td>1997.0</td>\n",
       "      <td>1169.0</td>\n",
       "      <td>month and year - information complete</td>\n",
       "      <td>19.0</td>\n",
       "      <td>20.0</td>\n",
       "      <td>20-24</td>\n",
       "    </tr>\n",
       "    <tr>\n",
       "      <th>1</th>\n",
       "      <td>1 2  3</td>\n",
       "      <td>1_2</td>\n",
       "      <td>NaN</td>\n",
       "      <td>NaN</td>\n",
       "      <td>NaN</td>\n",
       "      <td>NaN</td>\n",
       "      <td>NaN</td>\n",
       "      <td>NaN</td>\n",
       "      <td>never married</td>\n",
       "    </tr>\n",
       "    <tr>\n",
       "      <th>2</th>\n",
       "      <td>1 3  2</td>\n",
       "      <td>1_3</td>\n",
       "      <td>12.0</td>\n",
       "      <td>2003.0</td>\n",
       "      <td>1248.0</td>\n",
       "      <td>month and year - information complete</td>\n",
       "      <td>16.0</td>\n",
       "      <td>13.0</td>\n",
       "      <td>10-14</td>\n",
       "    </tr>\n",
       "    <tr>\n",
       "      <th>3</th>\n",
       "      <td>1 4  2</td>\n",
       "      <td>1_4</td>\n",
       "      <td>2.0</td>\n",
       "      <td>2004.0</td>\n",
       "      <td>1250.0</td>\n",
       "      <td>year - age/month imputed</td>\n",
       "      <td>17.0</td>\n",
       "      <td>13.0</td>\n",
       "      <td>10-14</td>\n",
       "    </tr>\n",
       "    <tr>\n",
       "      <th>4</th>\n",
       "      <td>1 6  4</td>\n",
       "      <td>1_6</td>\n",
       "      <td>5.0</td>\n",
       "      <td>2013.0</td>\n",
       "      <td>1361.0</td>\n",
       "      <td>month and year - information complete</td>\n",
       "      <td>34.0</td>\n",
       "      <td>4.0</td>\n",
       "      <td>0-4</td>\n",
       "    </tr>\n",
       "  </tbody>\n",
       "</table>\n",
       "</div>"
      ],
      "text/plain": [
       "            caseid hhid  v507    v508    v509  \\\n",
       "0           1 2  2  1_2   5.0  1997.0  1169.0   \n",
       "1           1 2  3  1_2   NaN     NaN     NaN   \n",
       "2           1 3  2  1_3  12.0  2003.0  1248.0   \n",
       "3           1 4  2  1_4   2.0  2004.0  1250.0   \n",
       "4           1 6  4  1_6   5.0  2013.0  1361.0   \n",
       "\n",
       "                                    v510  v511  v512           v513  \n",
       "0  month and year - information complete  19.0  20.0          20-24  \n",
       "1                                    NaN   NaN   NaN  never married  \n",
       "2  month and year - information complete  16.0  13.0          10-14  \n",
       "3               year - age/month imputed  17.0  13.0          10-14  \n",
       "4  month and year - information complete  34.0   4.0            0-4  "
      ]
     },
     "execution_count": 11,
     "metadata": {},
     "output_type": "execute_result"
    }
   ],
   "source": [
    "# cols_first_marriage = range(507,514)\n",
    "# df_first_marriage = df_women_recode[['caseid','hhid']+['v' + str(i) for i in cols_first_marriage]]\n",
    "# df_first_marriage.head()"
   ]
  },
  {
   "cell_type": "code",
   "execution_count": 10,
   "metadata": {},
   "outputs": [
    {
     "data": {
      "text/plain": [
       "(49627, 5492)"
      ]
     },
     "execution_count": 10,
     "metadata": {},
     "output_type": "execute_result"
    }
   ],
   "source": [
    "df_women.shape"
   ]
  },
  {
   "cell_type": "code",
   "execution_count": 11,
   "metadata": {},
   "outputs": [],
   "source": [
    "cols_identity = {'caseid':'',\n",
    "                 'hhid':'',\n",
    "                 'v012':'current age',\n",
    "                 'v013':'current age group',\n",
    "                 \n",
    "                 'v022':'province urban vs rural',\n",
    "                 'v024':'province',\n",
    "                 'v025':'urban vs rural',\n",
    "                 's108':'highest education lvl',\n",
    "                 'v106':'highest education grouped',\n",
    "                 'v130':'religion',\n",
    "                #  'v149':'educational achievement',\n",
    "                 \n",
    "                #  'v190':'wealth index',\n",
    "                 \n",
    "                 'v201':'total number of children ever born',\n",
    "                 'v212':'age at first birth',\n",
    "                 'v228':'ever had terminated pregnancy',\n",
    "                 \n",
    "                 'v625a':'unmet planning - exposure to need of contraception',\n",
    "                 'v626a':'unmet planning - unmet need',\n",
    "                 'v632':'women in union and using contraception are asked who decided on the use of contraception',\n",
    "                 'v632a':'women in union, not using contraception and not pregnant are asked who decided on the non-use of contraception',\n",
    "                 \n",
    "                 'v501':'current marital status',\n",
    "                 'v502':'currently, ever or formerly married',\n",
    "                 'v511':'age at first marriage',\n",
    "                 'v512':'years since first marriage',\n",
    "                 'v513':'years since first marriage, grouped',\n",
    "                 \n",
    "                 'v744a':'beatings - going out wo telling',\n",
    "                 'v744b':'beatings - neglects the children',\n",
    "                 'v744c':'beatings - argues',\n",
    "                 'v744d':'beatings - refuses to have sex',\n",
    "                 'v744e':'beatings - burns the food'}"
   ]
  },
  {
   "cell_type": "code",
   "execution_count": 12,
   "metadata": {},
   "outputs": [],
   "source": [
    "cols_identity_women = {'caseid':'',\n",
    "                       'v133':'total education in years',\n",
    "                       'v149':'educational achievement',\n",
    "                       'v190':'wealth quintiles',\n",
    "                       'v191':'wealth national score',\n",
    "                       \n",
    "                       'v744a':'beatings - going out wo telling',\n",
    "                       'v744b':'beatings - neglects the children',\n",
    "                       'v744c':'beatings - argues',\n",
    "                       'v744d':'beatings - refuses to have sex',\n",
    "                       'v744e':'beatings - burns the food'}"
   ]
  },
  {
   "cell_type": "code",
   "execution_count": 13,
   "metadata": {},
   "outputs": [
    {
     "data": {
      "text/plain": [
       "(49627, 31)"
      ]
     },
     "execution_count": 13,
     "metadata": {},
     "output_type": "execute_result"
    }
   ],
   "source": [
    "df_raw = pd.merge(df_women_recode[[i for i in cols_identity.keys()][:-5]],\n",
    "                  df_women[cols_identity_women],\n",
    "                  on='caseid')\n",
    "df_raw.shape"
   ]
  },
  {
   "cell_type": "code",
   "execution_count": 26,
   "metadata": {},
   "outputs": [],
   "source": [
    "value_list = [i for i in vl.keys()]\n",
    "for i in value_list:\n",
    "    if i.lower() in df_raw[[i for i in cols_identity.keys()][:-5]].columns:\n",
    "        df_raw[i.lower()] = df_raw[i.lower()].map(vl[i])"
   ]
  },
  {
   "attachments": {},
   "cell_type": "markdown",
   "metadata": {},
   "source": [
    "# feature engineering"
   ]
  },
  {
   "attachments": {},
   "cell_type": "markdown",
   "metadata": {},
   "source": [
    "## beatings"
   ]
  },
  {
   "cell_type": "code",
   "execution_count": 27,
   "metadata": {},
   "outputs": [
    {
     "data": {
      "text/plain": [
       "0.0    30649\n",
       "1.0     6902\n",
       "2.0     5759\n",
       "NaN     2700\n",
       "3.0     2271\n",
       "4.0      891\n",
       "5.0      455\n",
       "Name: beatings_lvl, dtype: int64"
      ]
     },
     "execution_count": 27,
     "metadata": {},
     "output_type": "execute_result"
    }
   ],
   "source": [
    "df_raw['beatings_lvl'] = np.where(((df_raw.v744a + df_raw.v744b + df_raw.v744c + df_raw.v744d + df_raw.v744e) > 5) |\\\n",
    "        ((df_raw.v744a + df_raw.v744b + df_raw.v744c + df_raw.v744d + df_raw.v744e).isna()),\\\n",
    "            np.nan,df_raw.v744a + df_raw.v744b + df_raw.v744c + df_raw.v744d + df_raw.v744e)\n",
    "df_raw.beatings_lvl.value_counts(dropna=False)"
   ]
  },
  {
   "cell_type": "code",
   "execution_count": 28,
   "metadata": {},
   "outputs": [
    {
     "data": {
      "text/plain": [
       "0.0    30649\n",
       "1.0    16278\n",
       "NaN     2700\n",
       "Name: beatings, dtype: int64"
      ]
     },
     "execution_count": 28,
     "metadata": {},
     "output_type": "execute_result"
    }
   ],
   "source": [
    "df_raw['beatings'] = np.where(df_raw.beatings_lvl>0,1, np.where(df_raw.beatings_lvl.isna(), np.nan, 0))\n",
    "df_raw.beatings.value_counts(dropna=False)"
   ]
  },
  {
   "attachments": {},
   "cell_type": "markdown",
   "metadata": {},
   "source": [
    "## married"
   ]
  },
  {
   "cell_type": "code",
   "execution_count": 16,
   "metadata": {},
   "outputs": [
    {
     "data": {
      "text/plain": [
       "1    34467\n",
       "0    12701\n",
       "2     2459\n",
       "Name: v502, dtype: int64"
      ]
     },
     "execution_count": 16,
     "metadata": {},
     "output_type": "execute_result"
    }
   ],
   "source": [
    "df_raw.v502.value_counts(dropna=False)"
   ]
  },
  {
   "cell_type": "code",
   "execution_count": 29,
   "metadata": {},
   "outputs": [
    {
     "data": {
      "text/plain": [
       "1    36926\n",
       "0    12701\n",
       "Name: ever_married, dtype: int64"
      ]
     },
     "execution_count": 29,
     "metadata": {},
     "output_type": "execute_result"
    }
   ],
   "source": [
    "df_raw['ever_married'] = np.where(df_raw.v502=='never in union',0,1)\n",
    "df_raw.ever_married.value_counts()"
   ]
  },
  {
   "attachments": {},
   "cell_type": "markdown",
   "metadata": {},
   "source": [
    "## child marriage"
   ]
  },
  {
   "cell_type": "code",
   "execution_count": 18,
   "metadata": {},
   "outputs": [
    {
     "data": {
      "text/plain": [
       "(4044, 34)"
      ]
     },
     "execution_count": 18,
     "metadata": {},
     "output_type": "execute_result"
    }
   ],
   "source": [
    "df_raw[(df_raw.ever_married==1) & (df_raw.v511<16)].shape"
   ]
  },
  {
   "cell_type": "code",
   "execution_count": 30,
   "metadata": {},
   "outputs": [
    {
     "data": {
      "text/plain": [
       "0.0    32882\n",
       "NaN    12701\n",
       "1.0     4044\n",
       "Name: child_marriage, dtype: int64"
      ]
     },
     "execution_count": 30,
     "metadata": {},
     "output_type": "execute_result"
    }
   ],
   "source": [
    "df_raw['child_marriage'] = np.where(df_raw.v511<16,1, np.where(df_raw.v511.isna(),np.nan, 0))\n",
    "df_raw.child_marriage.value_counts(dropna=False)"
   ]
  },
  {
   "cell_type": "code",
   "execution_count": 31,
   "metadata": {},
   "outputs": [
    {
     "data": {
      "text/plain": [
       "0.0    0.890484\n",
       "1.0    0.109516\n",
       "Name: child_marriage, dtype: float64"
      ]
     },
     "execution_count": 31,
     "metadata": {},
     "output_type": "execute_result"
    }
   ],
   "source": [
    "df_raw.child_marriage.value_counts(normalize=True)"
   ]
  },
  {
   "attachments": {},
   "cell_type": "markdown",
   "metadata": {},
   "source": [
    "Women who married at young age (<16 yo) are more likely to accept justification of husband's beatings (37.7% vs 32.8%)"
   ]
  },
  {
   "cell_type": "code",
   "execution_count": 32,
   "metadata": {},
   "outputs": [
    {
     "data": {
      "text/html": [
       "<div>\n",
       "<style scoped>\n",
       "    .dataframe tbody tr th:only-of-type {\n",
       "        vertical-align: middle;\n",
       "    }\n",
       "\n",
       "    .dataframe tbody tr th {\n",
       "        vertical-align: top;\n",
       "    }\n",
       "\n",
       "    .dataframe thead th {\n",
       "        text-align: right;\n",
       "    }\n",
       "</style>\n",
       "<table border=\"1\" class=\"dataframe\">\n",
       "  <thead>\n",
       "    <tr style=\"text-align: right;\">\n",
       "      <th></th>\n",
       "      <th></th>\n",
       "      <th>0</th>\n",
       "    </tr>\n",
       "    <tr>\n",
       "      <th>child_marriage</th>\n",
       "      <th>beatings</th>\n",
       "      <th></th>\n",
       "    </tr>\n",
       "  </thead>\n",
       "  <tbody>\n",
       "    <tr>\n",
       "      <th rowspan=\"2\" valign=\"top\">0.0</th>\n",
       "      <th>0.0</th>\n",
       "      <td>21370</td>\n",
       "    </tr>\n",
       "    <tr>\n",
       "      <th>1.0</th>\n",
       "      <td>10427</td>\n",
       "    </tr>\n",
       "    <tr>\n",
       "      <th rowspan=\"2\" valign=\"top\">1.0</th>\n",
       "      <th>0.0</th>\n",
       "      <td>2400</td>\n",
       "    </tr>\n",
       "    <tr>\n",
       "      <th>1.0</th>\n",
       "      <td>1454</td>\n",
       "    </tr>\n",
       "  </tbody>\n",
       "</table>\n",
       "</div>"
      ],
      "text/plain": [
       "                             0\n",
       "child_marriage beatings       \n",
       "0.0            0.0       21370\n",
       "               1.0       10427\n",
       "1.0            0.0        2400\n",
       "               1.0        1454"
      ]
     },
     "execution_count": 32,
     "metadata": {},
     "output_type": "execute_result"
    }
   ],
   "source": [
    "df_raw[df_raw.ever_married==1].groupby(['child_marriage','beatings']).size().to_frame()"
   ]
  },
  {
   "cell_type": "code",
   "execution_count": 114,
   "metadata": {},
   "outputs": [
    {
     "data": {
      "text/plain": [
       "beatings\n",
       "0.0    23770\n",
       "1.0    11881\n",
       "dtype: int64"
      ]
     },
     "execution_count": 114,
     "metadata": {},
     "output_type": "execute_result"
    }
   ],
   "source": [
    "df_raw[df_raw.ever_married==1].groupby(['beatings']).size()"
   ]
  },
  {
   "cell_type": "code",
   "execution_count": 115,
   "metadata": {},
   "outputs": [
    {
     "data": {
      "text/plain": [
       "v106          beatings\n",
       "higher        0.0          6181\n",
       "              1.0          2581\n",
       "no education  0.0           540\n",
       "              1.0           275\n",
       "primary       0.0          7587\n",
       "              1.0          4070\n",
       "secondary     0.0         16341\n",
       "              1.0          9352\n",
       "dtype: int64"
      ]
     },
     "execution_count": 115,
     "metadata": {},
     "output_type": "execute_result"
    }
   ],
   "source": [
    "df_raw.groupby(['v106','beatings']).size()"
   ]
  },
  {
   "cell_type": "code",
   "execution_count": 116,
   "metadata": {},
   "outputs": [
    {
     "data": {
      "text/plain": [
       "s108                 beatings\n",
       "academy/di/dii/diii  0.0          1479\n",
       "                     1.0           584\n",
       "div/university       0.0          4702\n",
       "                     1.0          1997\n",
       "junior high school   0.0          5655\n",
       "                     1.0          3306\n",
       "no education         0.0           540\n",
       "                     1.0           275\n",
       "primary              0.0          7587\n",
       "                     1.0          4070\n",
       "senior high school   0.0         10686\n",
       "                     1.0          6046\n",
       "dtype: int64"
      ]
     },
     "execution_count": 116,
     "metadata": {},
     "output_type": "execute_result"
    }
   ],
   "source": [
    "df_raw.groupby(['s108','beatings']).size()"
   ]
  },
  {
   "cell_type": "code",
   "execution_count": 33,
   "metadata": {},
   "outputs": [],
   "source": [
    "df_raw[df_raw.ever_married==1].to_csv('df_raw_ever_married.csv',index=False)"
   ]
  },
  {
   "attachments": {},
   "cell_type": "markdown",
   "metadata": {},
   "source": [
    "# EDA"
   ]
  },
  {
   "cell_type": "code",
   "execution_count": 62,
   "metadata": {},
   "outputs": [],
   "source": [
    "sns.set_context('talk')"
   ]
  },
  {
   "cell_type": "code",
   "execution_count": 34,
   "metadata": {},
   "outputs": [
    {
     "data": {
      "text/plain": [
       "(36926, 35)"
      ]
     },
     "execution_count": 34,
     "metadata": {},
     "output_type": "execute_result"
    }
   ],
   "source": [
    "df_married = pd.read_csv('df_raw_ever_married.csv')\n",
    "df_married.shape"
   ]
  },
  {
   "cell_type": "code",
   "execution_count": 216,
   "metadata": {},
   "outputs": [],
   "source": [
    "with open('saved_value_list.pkl', 'rb') as f:\n",
    "    loaded_dict = pickle.load(f)"
   ]
  },
  {
   "cell_type": "code",
   "execution_count": 48,
   "metadata": {},
   "outputs": [
    {
     "data": {
      "text/plain": [
       "(12540, 35)"
      ]
     },
     "execution_count": 48,
     "metadata": {},
     "output_type": "execute_result"
    }
   ],
   "source": [
    "df_married[(df_married.v024.str.contains('java')) | (df_married.v024.isin(['banten','jakarta','yogyakarta']))].shape"
   ]
  },
  {
   "attachments": {},
   "cell_type": "markdown",
   "metadata": {},
   "source": [
    "## age group\n",
    "\n",
    "Most married women repondents came from 35-39 age group. A small percentage of 1.98% is in 15-19 age group."
   ]
  },
  {
   "cell_type": "code",
   "execution_count": 25,
   "metadata": {},
   "outputs": [
    {
     "data": {
      "text/plain": [
       "0        5\n",
       "1        1\n",
       "2        4\n",
       "3        4\n",
       "4        5\n",
       "        ..\n",
       "49622    6\n",
       "49623    6\n",
       "49624    2\n",
       "49625    3\n",
       "49626    3\n",
       "Name: v013, Length: 49627, dtype: int64"
      ]
     },
     "execution_count": 25,
     "metadata": {},
     "output_type": "execute_result"
    }
   ],
   "source": [
    "df_married.v013"
   ]
  },
  {
   "cell_type": "code",
   "execution_count": 35,
   "metadata": {},
   "outputs": [
    {
     "data": {
      "text/plain": [
       "0.019769268266262255"
      ]
     },
     "execution_count": 35,
     "metadata": {},
     "output_type": "execute_result"
    }
   ],
   "source": [
    "df_married[(df_married.v013=='15-19')].caseid.nunique() / df_married.caseid.nunique()"
   ]
  },
  {
   "cell_type": "code",
   "execution_count": 161,
   "metadata": {},
   "outputs": [
    {
     "data": {
      "image/png": "[encoded data removed]",
      "text/plain": [
       "<Figure size 432x288 with 1 Axes>"
      ]
     },
     "metadata": {},
     "output_type": "display_data"
    }
   ],
   "source": [
    "df_married.v013.value_counts().sort_index().plot.bar()\n",
    "plt.title('Age group')\n",
    "plt.savefig('age group all.png'.replace(' ','_'), bbox_inches='tight')\n",
    "plt.show()"
   ]
  },
  {
   "attachments": {},
   "cell_type": "markdown",
   "metadata": {},
   "source": [
    "## wealth distribution\n",
    "\n",
    "Wealth index factor score is based on ownership of selected assets, materials for housing construction, etc."
   ]
  },
  {
   "cell_type": "code",
   "execution_count": 160,
   "metadata": {},
   "outputs": [
    {
     "data": {
      "image/png": "[encoded data removed]",
      "text/plain": [
       "<Figure size 432x288 with 1 Axes>"
      ]
     },
     "metadata": {},
     "output_type": "display_data"
    }
   ],
   "source": [
    "df_married.v191.plot.hist()\n",
    "plt.title('Wealth index factor')\n",
    "plt.savefig('wealth index factor all.png'.replace(' ','_'), bbox_inches='tight')\n",
    "plt.show()"
   ]
  },
  {
   "cell_type": "code",
   "execution_count": 159,
   "metadata": {},
   "outputs": [
    {
     "data": {
      "image/png": "[encoded data removed]",
      "text/plain": [
       "<Figure size 432x288 with 1 Axes>"
      ]
     },
     "metadata": {},
     "output_type": "display_data"
    }
   ],
   "source": [
    "df_married.groupby('v190')['beatings'].value_counts(normalize=True).unstack('beatings').plot.bar(stacked=True)\n",
    "plt.xlabel('Wealth quintile')\n",
    "plt.xticks(rotation=0)\n",
    "plt.title('Women in the poorer household are more accepting\\nof wife beating than in richer household', fontdict={'fontsize':20})\n",
    "plt.legend(['does not accept','accept'], title='attitude towards wife beatings',bbox_to_anchor=(1.8, 1),loc=\"upper right\")\n",
    "plt.savefig('poorest vs richest household vs beatings.png'.replace(' ','_'), bbox_inches='tight')\n",
    "plt.show()"
   ]
  },
  {
   "cell_type": "code",
   "execution_count": 26,
   "metadata": {},
   "outputs": [
    {
     "data": {
      "text/plain": [
       "{1: 'poorest', 2: 'poorer', 3: 'middle', 4: 'richer', 5: 'richest'}"
      ]
     },
     "execution_count": 26,
     "metadata": {},
     "output_type": "execute_result"
    }
   ],
   "source": [
    "vl['V190']"
   ]
  },
  {
   "attachments": {},
   "cell_type": "markdown",
   "metadata": {},
   "source": [
    "## urban/rural residence"
   ]
  },
  {
   "attachments": {},
   "cell_type": "markdown",
   "metadata": {},
   "source": [
    "There are slightly more women living in urban areas in this survey compared to rural areas."
   ]
  },
  {
   "cell_type": "code",
   "execution_count": 153,
   "metadata": {},
   "outputs": [
    {
     "data": {
      "image/png": "[encoded data removed]",
      "text/plain": [
       "<Figure size 432x288 with 1 Axes>"
      ]
     },
     "metadata": {},
     "output_type": "display_data"
    }
   ],
   "source": [
    "df_married.v025.value_counts(normalize=True).plot.bar()\n",
    "plt.xticks(rotation=0)\n",
    "plt.savefig('urban vs rural all.png'.replace(' ','_'), bbox_inches='tight')\n",
    "plt.show()"
   ]
  },
  {
   "attachments": {},
   "cell_type": "markdown",
   "metadata": {},
   "source": [
    "Women living in rural areas are more accepting of wife beating than woman in urban areas."
   ]
  },
  {
   "cell_type": "code",
   "execution_count": 154,
   "metadata": {},
   "outputs": [
    {
     "data": {
      "image/png": "[encoded data removed]",
      "text/plain": [
       "<Figure size 432x288 with 1 Axes>"
      ]
     },
     "metadata": {},
     "output_type": "display_data"
    }
   ],
   "source": [
    "df_married.groupby('v025')['beatings'].value_counts(normalize=True).unstack('beatings').plot.bar(stacked=True)\n",
    "plt.xticks(rotation=0)\n",
    "plt.xlabel('')\n",
    "plt.title('Women in the rural areas are more accepting\\nof wife beating', fontdict={'fontsize':20})\n",
    "plt.legend(['does not accept','accept'], title='attitude towards wife beatings',bbox_to_anchor=(1.8, 1),loc=\"upper right\")\n",
    "plt.savefig('urban vs rural vs beatings.png'.replace(' ','_'), bbox_inches='tight')\n",
    "plt.show()"
   ]
  },
  {
   "attachments": {},
   "cell_type": "markdown",
   "metadata": {},
   "source": [
    "## educational achievement"
   ]
  },
  {
   "cell_type": "code",
   "execution_count": 54,
   "metadata": {},
   "outputs": [
    {
     "data": {
      "text/plain": [
       "{0: 'no education',\n",
       " 1: 'incomplete primary',\n",
       " 2: 'complete primary',\n",
       " 3: 'incomplete secondary',\n",
       " 4: 'complete secondary',\n",
       " 5: 'higher'}"
      ]
     },
     "execution_count": 54,
     "metadata": {},
     "output_type": "execute_result"
    }
   ],
   "source": [
    "vl['V149']"
   ]
  },
  {
   "cell_type": "code",
   "execution_count": 102,
   "metadata": {},
   "outputs": [
    {
     "data": {
      "text/plain": [
       "complete secondary      0.275009\n",
       "incomplete secondary    0.244002\n",
       "complete primary        0.217543\n",
       "higher                  0.145453\n",
       "incomplete primary      0.096111\n",
       "no education            0.021882\n",
       "Name: v149, dtype: float64"
      ]
     },
     "execution_count": 102,
     "metadata": {},
     "output_type": "execute_result"
    }
   ],
   "source": [
    "df_married.sort_values('v149').v149.map(vl['V149']).value_counts(normalize=True)"
   ]
  },
  {
   "attachments": {},
   "cell_type": "markdown",
   "metadata": {},
   "source": [
    "Only 42% women have completed at least secondary education."
   ]
  },
  {
   "cell_type": "code",
   "execution_count": 110,
   "metadata": {},
   "outputs": [
    {
     "data": {
      "text/plain": [
       "0.42046254671505173"
      ]
     },
     "execution_count": 110,
     "metadata": {},
     "output_type": "execute_result"
    }
   ],
   "source": [
    "df_married[df_married.v149.isin([4,5])].caseid.nunique() / len(df_married)"
   ]
  },
  {
   "cell_type": "code",
   "execution_count": 155,
   "metadata": {},
   "outputs": [
    {
     "data": {
      "image/png": "[encoded data removed]",
      "text/plain": [
       "<Figure size 432x288 with 1 Axes>"
      ]
     },
     "metadata": {},
     "output_type": "display_data"
    }
   ],
   "source": [
    "sns.countplot(y=df_married.sort_values('v149').v149.map(vl['V149']))\n",
    "plt.ylabel('')\n",
    "plt.savefig('educational achievement all.png'.replace(' ','_'), bbox_inches='tight')"
   ]
  },
  {
   "attachments": {},
   "cell_type": "markdown",
   "metadata": {},
   "source": [
    "Women with higher education are relatively not as accepting of wife beatings compared with other educational achievement."
   ]
  },
  {
   "cell_type": "code",
   "execution_count": 178,
   "metadata": {},
   "outputs": [
    {
     "data": {
      "text/plain": [
       "0.0    0.72748\n",
       "1.0    0.27252\n",
       "Name: beatings, dtype: float64"
      ]
     },
     "execution_count": 178,
     "metadata": {},
     "output_type": "execute_result"
    }
   ],
   "source": [
    "df_married[df_married.v149==5].beatings.value_counts(normalize=True)"
   ]
  },
  {
   "cell_type": "code",
   "execution_count": 179,
   "metadata": {},
   "outputs": [
    {
     "data": {
      "image/png": "[encoded data removed]",
      "text/plain": [
       "<Figure size 432x288 with 1 Axes>"
      ]
     },
     "metadata": {},
     "output_type": "display_data"
    }
   ],
   "source": [
    "df_married.groupby('v149')['beatings'].value_counts(normalize=True).unstack('beatings').plot.bar(stacked=True)\n",
    "plt.xticks(rotation=0)\n",
    "plt.xlabel('')\n",
    "plt.title('Women with higher education (5) are relatively not as accepting\\nof wife beatings compared with other educational achievement', fontdict={'fontsize':20})\n",
    "plt.legend(['does not accept','accept'], title='attitude towards wife beatings',bbox_to_anchor=(1.8, 1),loc=\"upper right\")\n",
    "plt.savefig('educational achievement vs beatings.png'.replace(' ','_'), bbox_inches='tight')\n",
    "plt.show()"
   ]
  },
  {
   "attachments": {},
   "cell_type": "markdown",
   "metadata": {},
   "source": [
    "## child marriage"
   ]
  },
  {
   "attachments": {},
   "cell_type": "markdown",
   "metadata": {},
   "source": [
    "As much as 10.95% respondents first got married at age below 16."
   ]
  },
  {
   "cell_type": "code",
   "execution_count": 114,
   "metadata": {},
   "outputs": [
    {
     "data": {
      "text/plain": [
       "0.0    0.890484\n",
       "1.0    0.109516\n",
       "Name: child_marriage, dtype: float64"
      ]
     },
     "execution_count": 114,
     "metadata": {},
     "output_type": "execute_result"
    }
   ],
   "source": [
    "df_married.child_marriage.value_counts(normalize=True)"
   ]
  },
  {
   "cell_type": "code",
   "execution_count": 63,
   "metadata": {},
   "outputs": [
    {
     "data": {
      "image/png": "[encoded data removed]",
      "text/plain": [
       "<Figure size 432x288 with 1 Axes>"
      ]
     },
     "metadata": {},
     "output_type": "display_data"
    }
   ],
   "source": [
    "df_married.child_marriage.map({0:'no',1:'yes'}).value_counts(normalize=True).plot.bar()\n",
    "plt.xticks(rotation=0)\n",
    "plt.title('Child marriage')\n",
    "plt.savefig('child marriage all.png'.replace(' ','_'), bbox_inches='tight')\n",
    "plt.show()"
   ]
  },
  {
   "attachments": {},
   "cell_type": "markdown",
   "metadata": {},
   "source": [
    "Women who got married at young age are slightly more accepting of wife beatings (37.73% vs 32.79%)"
   ]
  },
  {
   "cell_type": "code",
   "execution_count": 73,
   "metadata": {},
   "outputs": [
    {
     "data": {
      "text/plain": [
       "0.0    0.534\n",
       "1.0    0.466\n",
       "Name: beatings, dtype: float64"
      ]
     },
     "execution_count": 73,
     "metadata": {},
     "output_type": "execute_result"
    }
   ],
   "source": [
    "df_married[(df_married.child_marriage==1) & (df_married.v013.isin(['15-19','20-24']))].beatings.value_counts(normalize=True)"
   ]
  },
  {
   "cell_type": "code",
   "execution_count": 66,
   "metadata": {},
   "outputs": [
    {
     "data": {
      "text/plain": [
       "0.0    0.613263\n",
       "1.0    0.386737\n",
       "Name: beatings, dtype: float64"
      ]
     },
     "execution_count": 66,
     "metadata": {},
     "output_type": "execute_result"
    }
   ],
   "source": [
    "df_married[(df_married.child_marriage==0) & (df_married.v013.isin(['15-19','20-24']))].beatings.value_counts(normalize=True)"
   ]
  },
  {
   "cell_type": "code",
   "execution_count": 78,
   "metadata": {},
   "outputs": [
    {
     "data": {
      "image/png": "[encoded data removed]",
      "text/plain": [
       "<Figure size 432x288 with 1 Axes>"
      ]
     },
     "metadata": {},
     "output_type": "display_data"
    }
   ],
   "source": [
    "df_married.groupby('child_marriage')['beatings'].value_counts(normalize=True).unstack('beatings').plot.bar(stacked=True)\n",
    "plt.xticks(rotation=0)\n",
    "plt.xlabel('')\n",
    "plt.title('Women who got married at young age are \\nmore accepting of wife beatings', fontdict={'fontsize':20})\n",
    "plt.legend(['does not accept','accept'], title='attitude towards wife beatings',bbox_to_anchor=(1.8, 1),loc=\"upper right\")\n",
    "plt.savefig('child marriage vs beatings.png'.replace(' ','_'), bbox_inches='tight')\n",
    "plt.show()"
   ]
  },
  {
   "attachments": {},
   "cell_type": "markdown",
   "metadata": {},
   "source": [
    "# Statistical test"
   ]
  },
  {
   "cell_type": "code",
   "execution_count": 166,
   "metadata": {},
   "outputs": [],
   "source": [
    "from statsmodels.stats.proportion import proportions_ztest"
   ]
  },
  {
   "cell_type": "code",
   "execution_count": 170,
   "metadata": {},
   "outputs": [],
   "source": [
    "alpha = 0.05"
   ]
  },
  {
   "cell_type": "code",
   "execution_count": 167,
   "metadata": {},
   "outputs": [],
   "source": [
    "child_beatings = df_married[(df_married.child_marriage==1) & (df_married.beatings==1)].caseid.nunique()\n",
    "nonchild_beatings = df_married[(df_married.child_marriage==0) & (df_married.beatings==1)].caseid.nunique()"
   ]
  },
  {
   "cell_type": "code",
   "execution_count": 168,
   "metadata": {},
   "outputs": [],
   "source": [
    "n_child = df_married[df_married.child_marriage==1].caseid.nunique()\n",
    "n_nonchild = df_married[df_married.child_marriage==0].caseid.nunique()"
   ]
  },
  {
   "cell_type": "code",
   "execution_count": 169,
   "metadata": {},
   "outputs": [
    {
     "name": "stdout",
     "output_type": "stream",
     "text": [
      "The computed Z test statistic is:  5.452\n",
      "The p-value is:  0.0\n"
     ]
    }
   ],
   "source": [
    "test_stat, p_value = proportions_ztest(count = [child_beatings, nonchild_beatings], \n",
    "                                                nobs = [n_child, n_nonchild], \n",
    "                                                alternative = 'larger')\n",
    "\n",
    "print(\"The computed Z test statistic is: \",np.round(test_stat, 4))\n",
    "print(\"The p-value is: \", np.round(p_value,4))"
   ]
  },
  {
   "cell_type": "code",
   "execution_count": 171,
   "metadata": {},
   "outputs": [
    {
     "name": "stdout",
     "output_type": "stream",
     "text": [
      "1.6448536269514722\n"
     ]
    }
   ],
   "source": [
    "import scipy.stats as stats\n",
    "z_crit = stats.norm.ppf(1-0.05)\n",
    "print(z_crit)"
   ]
  },
  {
   "attachments": {},
   "cell_type": "markdown",
   "metadata": {},
   "source": [
    "z test statistic > z critical -> reject the null hypothesis\n",
    "\n",
    "p value < alpha -> reject the null hypothesis"
   ]
  },
  {
   "cell_type": "code",
   "execution_count": 175,
   "metadata": {},
   "outputs": [
    {
     "name": "stdout",
     "output_type": "stream",
     "text": [
      "(0.026945050798155054, 0.05817641130353762)\n"
     ]
    }
   ],
   "source": [
    "from statsmodels.stats.proportion import confint_proportions_2indep\n",
    "\n",
    "confidence_interval = confint_proportions_2indep(count1 = child_beatings, nobs1 = n_child,\n",
    "                                                 count2 = nonchild_beatings, nobs2 = n_nonchild, \n",
    "                                                 compare='diff', alpha=alpha)\n",
    "print(confidence_interval)"
   ]
  },
  {
   "attachments": {},
   "cell_type": "markdown",
   "metadata": {},
   "source": [
    "This shows that 95% of the time, women who got married at young age are more likely to justify wife beatings compared to those who didn't by 2.69% - 5.82%. This might not prove to be practically significant, so we will not be using this feature."
   ]
  }
 ],
 "metadata": {
  "kernelspec": {
   "display_name": "base-analysis",
   "language": "python",
   "name": "python3"
  },
  "language_info": {
   "codemirror_mode": {
    "name": "ipython",
    "version": 3
   },
   "file_extension": ".py",
   "mimetype": "text/x-python",
   "name": "python",
   "nbconvert_exporter": "python",
   "pygments_lexer": "ipython3",
   "version": "3.8.12"
  },
  "orig_nbformat": 4
 },
 "nbformat": 4,
 "nbformat_minor": 2
}
